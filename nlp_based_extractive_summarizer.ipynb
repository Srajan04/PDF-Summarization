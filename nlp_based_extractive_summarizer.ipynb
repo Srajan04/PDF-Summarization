{
 "cells": [
  {
   "cell_type": "markdown",
   "metadata": {},
   "source": [
    "<h1 style=\"text-align: center;\"><b>Summary Generation Using Naive Approach<br></h1>"
   ]
  },
  {
   "cell_type": "markdown",
   "metadata": {},
   "source": [
    "---"
   ]
  },
  {
   "cell_type": "markdown",
   "metadata": {},
   "source": [
    "# <h3 style=\"text-align: left;\"><b> INTRODUCTION"
   ]
  },
  {
   "cell_type": "markdown",
   "metadata": {},
   "source": [
    "### <b>Objective</b>\n",
    "\n",
    "The objective of this project is to develop a simplified and efficient summary generation tool based on the **Naive NLP approach**. This approach seeks to extract key information from a text file or PDF document by leveraging a technique known as **Sentence Scoring**. \n",
    "\n",
    "Using Sentence Scoring, this tool evaluates each sentence’s importance based on factors such as:\n",
    "1. **Sentence Position**: Sentences occurring earlier in the text often introduce key ideas, and thus are weighted more heavily.\n",
    "2. **Sentence Length**: Optimal-length sentences are likely to convey significant information without unnecessary detail, making them ideal for summarization.\n",
    "3. **Keyword Frequency**: Sentences containing a higher concentration of topic-relevant keywords are given greater importance, as they likely reflect the primary content.\n",
    "\n",
    "By analyzing and ranking sentences according to these attributes, the project aims to generate concise summaries that maintain the essence of the original content. This Naive Approach provides a foundation for text summarization without relying on advanced machine learning models, making it both computationally efficient and interpretable. \n",
    "\n",
    "Through this project, we aim to demonstrate the effectiveness of rule-based summary generation and explore its potential applications in quickly summarizing large volumes of text across various domains.\n"
   ]
  },
  {
   "cell_type": "markdown",
   "metadata": {},
   "source": [
    "### <h5> <b> Installing Dependencies"
   ]
  },
  {
   "cell_type": "code",
   "execution_count": 1,
   "metadata": {},
   "outputs": [
    {
     "name": "stdout",
     "output_type": "stream",
     "text": [
      "Requirement already satisfied: nltk in /home/srajan/text-generation-webui/installer_files/env/lib/python3.11/site-packages (3.8.2)\n",
      "Requirement already satisfied: click in /home/srajan/text-generation-webui/installer_files/env/lib/python3.11/site-packages (from nltk) (8.1.7)\n",
      "Requirement already satisfied: joblib in /home/srajan/text-generation-webui/installer_files/env/lib/python3.11/site-packages (from nltk) (1.4.2)\n",
      "Requirement already satisfied: regex>=2021.8.3 in /home/srajan/text-generation-webui/installer_files/env/lib/python3.11/site-packages (from nltk) (2024.7.24)\n",
      "Requirement already satisfied: tqdm in /home/srajan/text-generation-webui/installer_files/env/lib/python3.11/site-packages (from nltk) (4.66.5)\n",
      "Note: you may need to restart the kernel to use updated packages.\n",
      "Collecting tabulate\n",
      "  Downloading tabulate-0.9.0-py3-none-any.whl.metadata (34 kB)\n",
      "Downloading tabulate-0.9.0-py3-none-any.whl (35 kB)\n",
      "Installing collected packages: tabulate\n",
      "Successfully installed tabulate-0.9.0\n",
      "Note: you may need to restart the kernel to use updated packages.\n",
      "Collecting pdfminer.six\n",
      "  Downloading pdfminer.six-20240706-py3-none-any.whl.metadata (4.1 kB)\n",
      "Requirement already satisfied: charset-normalizer>=2.0.0 in /home/srajan/text-generation-webui/installer_files/env/lib/python3.11/site-packages (from pdfminer.six) (3.3.2)\n",
      "Collecting cryptography>=36.0.0 (from pdfminer.six)\n",
      "  Downloading cryptography-43.0.3-cp39-abi3-manylinux_2_28_x86_64.whl.metadata (5.4 kB)\n",
      "Requirement already satisfied: cffi>=1.12 in /home/srajan/text-generation-webui/installer_files/env/lib/python3.11/site-packages (from cryptography>=36.0.0->pdfminer.six) (1.17.0)\n",
      "Requirement already satisfied: pycparser in /home/srajan/text-generation-webui/installer_files/env/lib/python3.11/site-packages (from cffi>=1.12->cryptography>=36.0.0->pdfminer.six) (2.22)\n",
      "Downloading pdfminer.six-20240706-py3-none-any.whl (5.6 MB)\n",
      "\u001b[2K   \u001b[90m━━━━━━━━━━━━━━━━━━━━━━━━━━━━━━━━━━━━━━━━\u001b[0m \u001b[32m5.6/5.6 MB\u001b[0m \u001b[31m4.2 MB/s\u001b[0m eta \u001b[36m0:00:00\u001b[0m00:01\u001b[0m00:01\u001b[0m\n",
      "\u001b[?25hDownloading cryptography-43.0.3-cp39-abi3-manylinux_2_28_x86_64.whl (4.0 MB)\n",
      "\u001b[2K   \u001b[90m━━━━━━━━━━━━━━━━━━━━━━━━━━━━━━━━━━━━━━━━\u001b[0m \u001b[32m4.0/4.0 MB\u001b[0m \u001b[31m4.4 MB/s\u001b[0m eta \u001b[36m0:00:00\u001b[0m00:01\u001b[0m00:01\u001b[0m\n",
      "\u001b[?25hInstalling collected packages: cryptography, pdfminer.six\n",
      "Successfully installed cryptography-43.0.3 pdfminer.six-20240706\n",
      "Note: you may need to restart the kernel to use updated packages.\n",
      "Collecting google.generativeai\n",
      "  Downloading google_generativeai-0.8.3-py3-none-any.whl.metadata (3.9 kB)\n",
      "Collecting google-ai-generativelanguage==0.6.10 (from google.generativeai)\n",
      "  Downloading google_ai_generativelanguage-0.6.10-py3-none-any.whl.metadata (5.6 kB)\n",
      "Collecting google-api-core (from google.generativeai)\n",
      "  Downloading google_api_core-2.22.0-py3-none-any.whl.metadata (2.9 kB)\n",
      "Collecting google-api-python-client (from google.generativeai)\n",
      "  Downloading google_api_python_client-2.151.0-py2.py3-none-any.whl.metadata (6.7 kB)\n",
      "Collecting google-auth>=2.15.0 (from google.generativeai)\n",
      "  Downloading google_auth-2.35.0-py2.py3-none-any.whl.metadata (4.7 kB)\n",
      "Requirement already satisfied: protobuf in /home/srajan/text-generation-webui/installer_files/env/lib/python3.11/site-packages (from google.generativeai) (4.25.4)\n",
      "Requirement already satisfied: pydantic in /home/srajan/text-generation-webui/installer_files/env/lib/python3.11/site-packages (from google.generativeai) (2.8.2)\n",
      "Requirement already satisfied: tqdm in /home/srajan/text-generation-webui/installer_files/env/lib/python3.11/site-packages (from google.generativeai) (4.66.5)\n",
      "Requirement already satisfied: typing-extensions in /home/srajan/text-generation-webui/installer_files/env/lib/python3.11/site-packages (from google.generativeai) (4.12.2)\n",
      "Collecting proto-plus<2.0.0dev,>=1.22.3 (from google-ai-generativelanguage==0.6.10->google.generativeai)\n",
      "  Downloading proto_plus-1.25.0-py3-none-any.whl.metadata (2.2 kB)\n",
      "Collecting googleapis-common-protos<2.0.dev0,>=1.56.2 (from google-api-core->google.generativeai)\n",
      "  Downloading googleapis_common_protos-1.65.0-py2.py3-none-any.whl.metadata (1.5 kB)\n",
      "Requirement already satisfied: requests<3.0.0.dev0,>=2.18.0 in /home/srajan/text-generation-webui/installer_files/env/lib/python3.11/site-packages (from google-api-core->google.generativeai) (2.32.3)\n",
      "Collecting cachetools<6.0,>=2.0.0 (from google-auth>=2.15.0->google.generativeai)\n",
      "  Downloading cachetools-5.5.0-py3-none-any.whl.metadata (5.3 kB)\n",
      "Collecting pyasn1-modules>=0.2.1 (from google-auth>=2.15.0->google.generativeai)\n",
      "  Downloading pyasn1_modules-0.4.1-py3-none-any.whl.metadata (3.5 kB)\n",
      "Collecting rsa<5,>=3.1.4 (from google-auth>=2.15.0->google.generativeai)\n",
      "  Downloading rsa-4.9-py3-none-any.whl.metadata (4.2 kB)\n",
      "Collecting httplib2<1.dev0,>=0.19.0 (from google-api-python-client->google.generativeai)\n",
      "  Downloading httplib2-0.22.0-py3-none-any.whl.metadata (2.6 kB)\n",
      "Collecting google-auth-httplib2<1.0.0,>=0.2.0 (from google-api-python-client->google.generativeai)\n",
      "  Downloading google_auth_httplib2-0.2.0-py2.py3-none-any.whl.metadata (2.2 kB)\n",
      "Collecting uritemplate<5,>=3.0.1 (from google-api-python-client->google.generativeai)\n",
      "  Downloading uritemplate-4.1.1-py2.py3-none-any.whl.metadata (2.9 kB)\n",
      "Requirement already satisfied: annotated-types>=0.4.0 in /home/srajan/text-generation-webui/installer_files/env/lib/python3.11/site-packages (from pydantic->google.generativeai) (0.7.0)\n",
      "Requirement already satisfied: pydantic-core==2.20.1 in /home/srajan/text-generation-webui/installer_files/env/lib/python3.11/site-packages (from pydantic->google.generativeai) (2.20.1)\n",
      "Requirement already satisfied: grpcio<2.0dev,>=1.33.2 in /home/srajan/text-generation-webui/installer_files/env/lib/python3.11/site-packages (from google-api-core[grpc]!=2.0.*,!=2.1.*,!=2.10.*,!=2.2.*,!=2.3.*,!=2.4.*,!=2.5.*,!=2.6.*,!=2.7.*,!=2.8.*,!=2.9.*,<3.0.0dev,>=1.34.1->google-ai-generativelanguage==0.6.10->google.generativeai) (1.65.4)\n",
      "Collecting grpcio-status<2.0.dev0,>=1.33.2 (from google-api-core[grpc]!=2.0.*,!=2.1.*,!=2.10.*,!=2.2.*,!=2.3.*,!=2.4.*,!=2.5.*,!=2.6.*,!=2.7.*,!=2.8.*,!=2.9.*,<3.0.0dev,>=1.34.1->google-ai-generativelanguage==0.6.10->google.generativeai)\n",
      "  Downloading grpcio_status-1.67.1-py3-none-any.whl.metadata (1.1 kB)\n",
      "Requirement already satisfied: pyparsing!=3.0.0,!=3.0.1,!=3.0.2,!=3.0.3,<4,>=2.4.2 in /home/srajan/text-generation-webui/installer_files/env/lib/python3.11/site-packages (from httplib2<1.dev0,>=0.19.0->google-api-python-client->google.generativeai) (3.1.2)\n",
      "Collecting pyasn1<0.7.0,>=0.4.6 (from pyasn1-modules>=0.2.1->google-auth>=2.15.0->google.generativeai)\n",
      "  Downloading pyasn1-0.6.1-py3-none-any.whl.metadata (8.4 kB)\n",
      "Requirement already satisfied: charset-normalizer<4,>=2 in /home/srajan/text-generation-webui/installer_files/env/lib/python3.11/site-packages (from requests<3.0.0.dev0,>=2.18.0->google-api-core->google.generativeai) (3.3.2)\n",
      "Requirement already satisfied: idna<4,>=2.5 in /home/srajan/text-generation-webui/installer_files/env/lib/python3.11/site-packages (from requests<3.0.0.dev0,>=2.18.0->google-api-core->google.generativeai) (3.7)\n",
      "Requirement already satisfied: urllib3<3,>=1.21.1 in /home/srajan/text-generation-webui/installer_files/env/lib/python3.11/site-packages (from requests<3.0.0.dev0,>=2.18.0->google-api-core->google.generativeai) (1.26.16)\n",
      "Requirement already satisfied: certifi>=2017.4.17 in /home/srajan/text-generation-webui/installer_files/env/lib/python3.11/site-packages (from requests<3.0.0.dev0,>=2.18.0->google-api-core->google.generativeai) (2024.7.4)\n",
      "Collecting protobuf (from google.generativeai)\n",
      "  Downloading protobuf-5.28.3-cp38-abi3-manylinux2014_x86_64.whl.metadata (592 bytes)\n",
      "Collecting grpcio<2.0dev,>=1.33.2 (from google-api-core[grpc]!=2.0.*,!=2.1.*,!=2.10.*,!=2.2.*,!=2.3.*,!=2.4.*,!=2.5.*,!=2.6.*,!=2.7.*,!=2.8.*,!=2.9.*,<3.0.0dev,>=1.34.1->google-ai-generativelanguage==0.6.10->google.generativeai)\n",
      "  Downloading grpcio-1.67.1-cp311-cp311-manylinux_2_17_x86_64.manylinux2014_x86_64.whl.metadata (3.9 kB)\n",
      "Downloading google_generativeai-0.8.3-py3-none-any.whl (160 kB)\n",
      "\u001b[2K   \u001b[90m━━━━━━━━━━━━━━━━━━━━━━━━━━━━━━━━━━━━━━━━\u001b[0m \u001b[32m160.8/160.8 kB\u001b[0m \u001b[31m1.0 MB/s\u001b[0m eta \u001b[36m0:00:00\u001b[0ma \u001b[36m0:00:01\u001b[0mm\n",
      "\u001b[?25hDownloading google_ai_generativelanguage-0.6.10-py3-none-any.whl (760 kB)\n",
      "\u001b[2K   \u001b[90m━━━━━━━━━━━━━━━━━━━━━━━━━━━━━━━━━━━━━━━━\u001b[0m \u001b[32m760.0/760.0 kB\u001b[0m \u001b[31m1.4 MB/s\u001b[0m eta \u001b[36m0:00:00\u001b[0ma \u001b[36m0:00:01\u001b[0m\n",
      "\u001b[?25hDownloading google_api_core-2.22.0-py3-none-any.whl (156 kB)\n",
      "\u001b[2K   \u001b[90m━━━━━━━━━━━━━━━━━━━━━━━━━━━━━━━━━━━━━━━━\u001b[0m \u001b[32m156.5/156.5 kB\u001b[0m \u001b[31m1.1 MB/s\u001b[0m eta \u001b[36m0:00:00\u001b[0m00:01\u001b[0m00:01\u001b[0m\n",
      "\u001b[?25hDownloading google_auth-2.35.0-py2.py3-none-any.whl (208 kB)\n",
      "\u001b[2K   \u001b[90m━━━━━━━━━━━━━━━━━━━━━━━━━━━━━━━━━━━━━━━━\u001b[0m \u001b[32m209.0/209.0 kB\u001b[0m \u001b[31m1.9 MB/s\u001b[0m eta \u001b[36m0:00:00\u001b[0ma \u001b[36m0:00:01\u001b[0mm\n",
      "\u001b[?25hDownloading google_api_python_client-2.151.0-py2.py3-none-any.whl (12.5 MB)\n",
      "\u001b[2K   \u001b[90m━━━━━━━━━━━━━━━━━━━━━━━━━━━━━━━━━━━━━━━━\u001b[0m \u001b[32m12.5/12.5 MB\u001b[0m \u001b[31m4.6 MB/s\u001b[0m eta \u001b[36m0:00:00\u001b[0m00:01\u001b[0m00:01\u001b[0m\n",
      "\u001b[?25hDownloading cachetools-5.5.0-py3-none-any.whl (9.5 kB)\n",
      "Downloading google_auth_httplib2-0.2.0-py2.py3-none-any.whl (9.3 kB)\n",
      "Downloading googleapis_common_protos-1.65.0-py2.py3-none-any.whl (220 kB)\n",
      "\u001b[2K   \u001b[90m━━━━━━━━━━━━━━━━━━━━━━━━━━━━━━━━━━━━━━━━\u001b[0m \u001b[32m220.9/220.9 kB\u001b[0m \u001b[31m3.9 MB/s\u001b[0m eta \u001b[36m0:00:00\u001b[0ma \u001b[36m0:00:01\u001b[0m\n",
      "\u001b[?25hDownloading httplib2-0.22.0-py3-none-any.whl (96 kB)\n",
      "\u001b[2K   \u001b[90m━━━━━━━━━━━━━━━━━━━━━━━━━━━━━━━━━━━━━━━━\u001b[0m \u001b[32m96.9/96.9 kB\u001b[0m \u001b[31m2.4 MB/s\u001b[0m eta \u001b[36m0:00:00\u001b[0ma \u001b[36m0:00:01\u001b[0m\n",
      "\u001b[?25hDownloading proto_plus-1.25.0-py3-none-any.whl (50 kB)\n",
      "\u001b[2K   \u001b[90m━━━━━━━━━━━━━━━━━━━━━━━━━━━━━━━━━━━━━━━━\u001b[0m \u001b[32m50.1/50.1 kB\u001b[0m \u001b[31m2.0 MB/s\u001b[0m eta \u001b[36m0:00:00\u001b[0m\n",
      "\u001b[?25hDownloading pyasn1_modules-0.4.1-py3-none-any.whl (181 kB)\n",
      "\u001b[2K   \u001b[90m━━━━━━━━━━━━━━━━━━━━━━━━━━━━━━━━━━━━━━━━\u001b[0m \u001b[32m181.5/181.5 kB\u001b[0m \u001b[31m3.8 MB/s\u001b[0m eta \u001b[36m0:00:00\u001b[0ma \u001b[36m0:00:01\u001b[0m\n",
      "\u001b[?25hDownloading rsa-4.9-py3-none-any.whl (34 kB)\n",
      "Downloading uritemplate-4.1.1-py2.py3-none-any.whl (10 kB)\n",
      "Downloading grpcio_status-1.67.1-py3-none-any.whl (14 kB)\n",
      "Downloading protobuf-5.28.3-cp38-abi3-manylinux2014_x86_64.whl (316 kB)\n",
      "\u001b[2K   \u001b[90m━━━━━━━━━━━━━━━━━━━━━━━━━━━━━━━━━━━━━━━━\u001b[0m \u001b[32m316.6/316.6 kB\u001b[0m \u001b[31m4.7 MB/s\u001b[0m eta \u001b[36m0:00:00\u001b[0ma \u001b[36m0:00:01\u001b[0mm\n",
      "\u001b[?25hDownloading grpcio-1.67.1-cp311-cp311-manylinux_2_17_x86_64.manylinux2014_x86_64.whl (5.9 MB)\n",
      "\u001b[2K   \u001b[90m━━━━━━━━━━━━━━━━━━━━━━━━━━━━━━━━━━━━━━━━\u001b[0m \u001b[32m5.9/5.9 MB\u001b[0m \u001b[31m5.2 MB/s\u001b[0m eta \u001b[36m0:00:00\u001b[0m00:01\u001b[0m00:01\u001b[0m\n",
      "\u001b[?25hDownloading pyasn1-0.6.1-py3-none-any.whl (83 kB)\n",
      "\u001b[2K   \u001b[90m━━━━━━━━━━━━━━━━━━━━━━━━━━━━━━━━━━━━━━━━\u001b[0m \u001b[32m83.1/83.1 kB\u001b[0m \u001b[31m2.4 MB/s\u001b[0m eta \u001b[36m0:00:00\u001b[0m00:01\u001b[0m\n",
      "\u001b[?25hInstalling collected packages: uritemplate, pyasn1, protobuf, httplib2, grpcio, cachetools, rsa, pyasn1-modules, proto-plus, googleapis-common-protos, grpcio-status, google-auth, google-auth-httplib2, google-api-core, google-api-python-client, google-ai-generativelanguage, google.generativeai\n",
      "  Attempting uninstall: protobuf\n",
      "    Found existing installation: protobuf 4.25.4\n",
      "    Uninstalling protobuf-4.25.4:\n",
      "      Successfully uninstalled protobuf-4.25.4\n",
      "  Attempting uninstall: grpcio\n",
      "    Found existing installation: grpcio 1.65.4\n",
      "    Uninstalling grpcio-1.65.4:\n",
      "      Successfully uninstalled grpcio-1.65.4\n",
      "\u001b[31mERROR: pip's dependency resolver does not currently take into account all the packages that are installed. This behaviour is the source of the following dependency conflicts.\n",
      "tensorboard 2.17.0 requires protobuf!=4.24.0,<5.0.0,>=3.19.6, but you have protobuf 5.28.3 which is incompatible.\n",
      "tensorflow 2.17.0 requires protobuf!=4.21.0,!=4.21.1,!=4.21.2,!=4.21.3,!=4.21.4,!=4.21.5,<5.0.0dev,>=3.20.3, but you have protobuf 5.28.3 which is incompatible.\u001b[0m\u001b[31m\n",
      "\u001b[0mSuccessfully installed cachetools-5.5.0 google-ai-generativelanguage-0.6.10 google-api-core-2.22.0 google-api-python-client-2.151.0 google-auth-2.35.0 google-auth-httplib2-0.2.0 google.generativeai-0.8.3 googleapis-common-protos-1.65.0 grpcio-1.67.1 grpcio-status-1.67.1 httplib2-0.22.0 proto-plus-1.25.0 protobuf-5.28.3 pyasn1-0.6.1 pyasn1-modules-0.4.1 rsa-4.9 uritemplate-4.1.1\n",
      "Note: you may need to restart the kernel to use updated packages.\n"
     ]
    }
   ],
   "source": [
    "# We are using NLTK for text processing purposes\n",
    "%pip install nltk \n",
    "# Tabulate is used for displaying the results in a tabular format\n",
    "%pip install tabulate \n",
    "\n",
    "# %pip install scikit-learn \n",
    "# PDFMiner.six is a tool for extracting information from PDF documents.\n",
    "%pip install pdfminer.six\n",
    "\n",
    "# %pip install cryptography\n",
    "\n",
    "# We are using the Google Gemini API for a tentative QnA support to our project (due to its merge with Deep Learning)\n",
    "%pip install google.generativeai"
   ]
  },
  {
   "cell_type": "markdown",
   "metadata": {},
   "source": [
    "### <h5> <b>Fetching imports"
   ]
  },
  {
   "cell_type": "code",
   "execution_count": 2,
   "metadata": {},
   "outputs": [],
   "source": [
    "import nltk\n",
    "\n",
    "# Regex is used for Pre-Processing\n",
    "import re\n",
    "\n",
    "from sklearn.feature_extraction.text import TfidfVectorizer\n",
    "\n",
    "from nltk.corpus import stopwords\n",
    "\n",
    "from nltk.stem import PorterStemmer\n",
    "\n",
    "from nltk.tokenize import sent_tokenize, word_tokenize\n",
    "\n",
    "from nltk.corpus import words as nltk_words\n",
    "\n",
    "\n",
    "from tabulate import tabulate\n",
    "\n",
    "from rich.console import Console\n",
    "\n",
    "from rich.table import Table\n",
    "\n",
    "from rich import box\n",
    "\n",
    "from rich import print\n",
    "\n",
    "\n",
    "from generateData import convert_pdf_to_txt"
   ]
  },
  {
   "cell_type": "markdown",
   "metadata": {},
   "source": [
    "### <h5><b> Downloading Necessary NLTK models"
   ]
  },
  {
   "cell_type": "code",
   "execution_count": 3,
   "metadata": {},
   "outputs": [
    {
     "name": "stderr",
     "output_type": "stream",
     "text": [
      "[nltk_data] Downloading package punkt to /home/srajan/nltk_data...\n",
      "[nltk_data]   Package punkt is already up-to-date!\n",
      "[nltk_data] Downloading package stopwords to /home/srajan/nltk_data...\n",
      "[nltk_data]   Package stopwords is already up-to-date!\n",
      "[nltk_data] Downloading package words to /home/srajan/nltk_data...\n",
      "[nltk_data]   Package words is already up-to-date!\n"
     ]
    },
    {
     "data": {
      "text/plain": [
       "True"
      ]
     },
     "execution_count": 3,
     "metadata": {},
     "output_type": "execute_result"
    }
   ],
   "source": [
    "# This downloads the punkt tokenizer models, its purpose is to break down a text into sentences and words\n",
    "nltk.download(\"punkt\")\n",
    "# This downloads the stopwords corpus, which is a list of common words that are not useful for text processing\n",
    "\n",
    "nltk.download(\"stopwords\")\n",
    "# This downloads the words corpus, which is a list of English words, which can be used for spell checking and word validation etc\n",
    "\n",
    "nltk.download(\"words\")"
   ]
  },
  {
   "cell_type": "markdown",
   "metadata": {},
   "source": [
    "# <h3 style=\"text-align: left;\"><b> METHODOLOGY"
   ]
  },
  {
   "cell_type": "markdown",
   "metadata": {},
   "source": [
    "### <h5> <b> Text PreProcessing"
   ]
  },
  {
   "cell_type": "markdown",
   "metadata": {},
   "source": [
    "<b><i>contractions</i></b> is a dictionary with common english words such as <b>aren't</b> , <b>don't</b> which are contractions paired with thier expanded form which helps in standardizing the words clearly for the model to understand"
   ]
  },
  {
   "cell_type": "code",
   "execution_count": 4,
   "metadata": {},
   "outputs": [],
   "source": [
    "import contractions"
   ]
  },
  {
   "cell_type": "markdown",
   "metadata": {},
   "source": [
    "<b>preprocess_text</b> is a function that apply's the preprocessing techniques such as removing unwanted characters (via regex) Sentence and Word Tokenization (via NLTK) Stopword Removal (via NLTK) and Stemming (Using Porter Stemmer Algorithm)\n",
    "\n",
    "It takes two arguments\n",
    "1. <b>file_path</b>: which takes the the specific directory path of the file at where it is located <br>\n",
    "2. <b>pdf=False</b>: which is a parameter to specifiy wheather the provided file is a PDF or not, if not text in the function is extracted differently<br>"
   ]
  },
  {
   "cell_type": "code",
   "execution_count": 5,
   "metadata": {},
   "outputs": [],
   "source": [
    "def preprocess_text(file_path, pdf=False):\n",
    "    if pdf:\n",
    "        # if the file is a pdf than convert it to text\n",
    "        text = convert_pdf_to_txt(file_path)\n",
    "    else:\n",
    "        # if the file is already provided in .txt format\n",
    "        with open(file_path, \"r\") as file:\n",
    "            text = file.read()\n",
    "    # lowercasing for better processing\n",
    "    text = text.lower()\n",
    "\n",
    "    # new\n",
    "    text = contractions.fix(text)\n",
    "\n",
    "    # Format words and remove unwanted characters\n",
    "    # this line matches any URL, any new line characters in the text and replaces it with an empty string\n",
    "    text = re.sub(r\"https?:\\/\\/.*[\\r\\n]*\", \"\", text, flags=re.MULTILINE)\n",
    "    # this line replaces any HTML links with a space\n",
    "    text = re.sub(r\"\\<a href\", \" \", text)\n",
    "    # this line replaces any HTML entity for ampersand with an empty string\n",
    "    text = re.sub(r\"&amp;\", \"\", text)\n",
    "    # this line removes any special characters from the text and replaces with a space\n",
    "    text = re.sub(r'[_\"\\-;%()|+&=*%,!?:#$@\\[\\]/]', \" \", text)\n",
    "    # this line removes any HTML line breakers and replaces it with a space\n",
    "    text = re.sub(r\"<br />\", \" \", text)\n",
    "    # this line replaces any aphostrophe with a space\n",
    "    text = re.sub(r\"\\'\", \" \", text)\n",
    "\n",
    "    # Tokenize text\n",
    "    sentences = sent_tokenize(text)\n",
    "    # Tokenize each sentence of the text\n",
    "    words = [word_tokenize(sentence) for sentence in sentences]\n",
    "\n",
    "    # Remove stopwords\n",
    "    stop_words = set(stopwords.words(\"english\"))\n",
    "    words = [\n",
    "        [word for word in sentence if word.lower() not in stop_words]\n",
    "        for sentence in words\n",
    "    ]\n",
    "    # the reason why we have wrote 'for sentence in words' is because each row in the words array is a list of words that make a single sentence\n",
    "\n",
    "    # Perform stemming\n",
    "    # PorterStemmer is a popular stemming algorithm, which is used to remove the commoner morphological and inflexional endings from words. Its main use is as part of a term normalisation process that is usually done when setting up Information Retrieval systems. e.g. 'stemming', 'stemmer', 'stemmed' all have similar meanings; hence, they are stemmed to 'stem'.\"\n",
    "    stemmer = PorterStemmer()\n",
    "    words = [[stemmer.stem(word) for word in sentence] for sentence in words]\n",
    "\n",
    "    return sentences, words"
   ]
  },
  {
   "cell_type": "markdown",
   "metadata": {},
   "source": [
    "### <h5> <b> Sentence Scoring </b>\n",
    "\n",
    "This cell introduces the Sentence Scoring technique, a fundamental part of the Naive Approach for text summarization. Sentence scoring assigns each sentence a score based on certain predefined factors, such as its position in the text, length, and the presence of keywords. This scoring provides a quantitative measure of each sentence's relevance to the main topic, forming the basis for further analysis in summary generation.\n",
    "\n",
    "<b> Importance of TF-IDF scoring in Naive approach:</b>:\n",
    "* Identify Important Words: TF-IDF helps in identifying the most important words in each sentence by considering both the frequency of the word in the sentence and its rarity across all sentences\n",
    "* Weighting Terms: It assigns a weight to each term based on its importance, allowing the algorithm to prioritize sentences with higher weighted terms\n",
    "* Feature Extraction: The TF-IDF matrix serves as a feature representation of the sentences, which can be used for further processing, such as scoring and ranking sentences for summarization.\n",
    "\n",
    "<b> Importance of Sentence Position in Naive Approach: </b>\n",
    "* In many texts, especially in structured documents like articles, reports, and academic papers, the most important information is often presented early. The  introduction and first few sentences typically contain key points and summaries.\n",
    "* By giving higher scores to sentences that appear earlier, the algorithm leverages this common writing pattern to identify potentially important sentences.\n",
    "* Sentence position scoring is a heuristic that helps in quickly identifying important sentences without deep semantic analysis. It is a simple yet effective way to prioritize certain parts of the text\n",
    "\n",
    "\n",
    "<b> Importance of Sentence Length in Naive Approach: </b>\n",
    "* Sentences that are too short may lack sufficient context or information, while sentences that are too long may be overly complex and harder to summarize.\n",
    "* By focusing on sentences of moderate length (e.g., between 5 and 20 words), the algorithm aims to select sentences that are likely to be informative and concise.\n",
    "* Sentences of moderate length are generally easier to read and understand. They strike a balance between providing enough information and maintaining clarity.\n",
    "* This consideration helps in generating summaries that are both informative and easy to read."
   ]
  },
  {
   "cell_type": "code",
   "execution_count": 6,
   "metadata": {},
   "outputs": [],
   "source": [
    "def score_sentences(sentences, words):\n",
    "    # TF-IDF scoring\n",
    "    # Creating an instance of the 'TfidfVectorizer' class\n",
    "    tfidf_vectorizer = TfidfVectorizer()\n",
    "    # here a tfidf matrix is created by fitting the sentences into the vectorizer so that the vectorizer can learn the vocabulary and idf from the sentences\n",
    "    # each row in the matrix indiciates a sentence and each column indicates a word in that sentence\n",
    "    tfidf_matrix = tfidf_vectorizer.fit_transform(\n",
    "        [\" \".join(sentence) for sentence in words]\n",
    "    )\n",
    "\n",
    "    # Sentence position importance\n",
    "    # We assign a score to each sentence based on its position in the text\n",
    "    # The first sentence is assigned a score of 1, the second sentence is assigned a score of 1/2, the third sentence is assigned a score of 1/3, and so on\n",
    "    position_scores = [1 / (i + 1) for i in range(len(sentences))]\n",
    "\n",
    "    # Sentence length consideration\n",
    "    # Here each sentence is given either a '1' or a '0' based on the length of the sentence\n",
    "    # If the length of the sentence is between 5 and 20 words, it is assigned a '1', otherwise it is assigned a '0'\n",
    "    length_scores = [\n",
    "        1 if 5 < len(sentence.split()) < 20 else 0 for sentence in sentences\n",
    "    ]\n",
    "\n",
    "    # Combine scores (example: simple sum of scores)\n",
    "    scores = []\n",
    "    for i in range(len(sentences)):\n",
    "        tfidf_score = tfidf_matrix[i].sum()\n",
    "        score = tfidf_score + position_scores[i] + length_scores[i]\n",
    "        scores.append(score)\n",
    "\n",
    "    return scores"
   ]
  },
  {
   "cell_type": "markdown",
   "metadata": {},
   "source": [
    "### <h5> <b> Feature Extraction</b>\n",
    "\n",
    "The extract_features function is designed to extract specific features from a list of sentences. These features include the count of proper nouns, numerical data, discourse markers, and title word presence. These features can be used to score and rank sentences for summarization.\n",
    "\n",
    "<b>Purpose of the steps involved:</b>\n",
    "* <b>Proper Nouns:</b>\n",
    "    * Proper nouns often indicate important entities such as names, places, and organizations. Sentences with more proper nouns might contain significant information.\n",
    "* <b>Numerical Data:</b>\n",
    "    * Numerical data can be crucial in many contexts, such as statistics, dates, and quantities. Sentences with numerical data might be more informative.\n",
    "* <b>Discourse Markers:</b>\n",
    "    * Discourse markers help in understanding the structure and flow of the text. Sentences with these markers might summarize or conclude important points.\n",
    "    which is helpfull for us in extracting information from such parts of text for summary generation purposes.\n",
    "* <b>Title Word Presence:</b>\n",
    "    * Words related to the title or main topics can indicate the relevance of a sentence to the overall content. Sentences with these words might be more central to the main ideas."
   ]
  },
  {
   "cell_type": "code",
   "execution_count": 7,
   "metadata": {},
   "outputs": [],
   "source": [
    "def extract_features(sentences):\n",
    "    # we declare an empty list to store the features of the sentences according to thier idx\n",
    "    # that is sentence indexed 0 will have its features in index 0 of this array\n",
    "    features = []\n",
    "    # We declare an example set of title words which are commonly used\n",
    "    title_words = set([\"example\", \"title\", \"words\"])\n",
    "    # iterating over each sentence in the sentences array\n",
    "    for sentence in sentences:\n",
    "        # we count the number of proper_nouns in the each sentence\n",
    "        proper_nouns = len([word for word in word_tokenize(sentence) if word.istitle()])\n",
    "        # we count for any numerical data (which can be usefull for statistical data) in each sentence\n",
    "        numerical_data = len(\n",
    "            [word for word in word_tokenize(sentence) if word.isdigit()]\n",
    "        )\n",
    "        # we count for discourse markers in each sentence\n",
    "        discourse_markers = len(\n",
    "            [\n",
    "                word\n",
    "                for word in word_tokenize(sentence)\n",
    "                if word.lower()\n",
    "                in [\"in conclusion\", \"importantly\", \"overall\", \"conclusively\"]\n",
    "            ]\n",
    "        )\n",
    "        # we count for title words in each sentence\n",
    "        title_word_presence = len(\n",
    "            [word for word in word_tokenize(sentence) if word.lower() in title_words]\n",
    "        )\n",
    "        # Lastly, we append all the extracted features of a single sentence as a dictionary to the features array\n",
    "        features.append(\n",
    "            {\n",
    "                \"proper_nouns\": proper_nouns,\n",
    "                \"numerical_data\": numerical_data,\n",
    "                \"discourse_markers\": discourse_markers,\n",
    "                \"title_word_presence\": title_word_presence,\n",
    "            }\n",
    "        )\n",
    "\n",
    "    return features"
   ]
  },
  {
   "cell_type": "markdown",
   "metadata": {},
   "source": [
    "### <h5> <b> Sentence Ranking</b>\n",
    "\n",
    "This cell ranks sentences based on their combined scores, which are derived from both predefined scores and extracted features.\n",
    "\n",
    "<b>Purpose of the steps involved:</b>\n",
    "* Here we are basically Combining the scores of each sentence and then ranking them against each other on the basis of thier scores and displaying the sentences along with thier scores in a tabular format (via tabulate)"
   ]
  },
  {
   "cell_type": "code",
   "execution_count": 8,
   "metadata": {},
   "outputs": [],
   "source": [
    "def rank_sentences(sentences, scores, features):\n",
    "    # We create an empty list to store the combined scores of the sentences\n",
    "    combined_scores = []\n",
    "    for i in range(len(sentences)):\n",
    "        # We sum the scores of each sentence on the basis of the features in the sentence (summation is done because each of the values is a length (check the extract_features function))\n",
    "        feature_score = sum(features[i].values())\n",
    "        # We combine the scores from the setence position, sentence length and TF-IDF score along with the features score\n",
    "        combined_score = scores[i] + feature_score\n",
    "        combined_scores.append((combined_score, i))\n",
    "    # Sort sentences by combined score in descending order\n",
    "    # key = lamda x: x[0] indicates that we consider the first element of the tuple for sorting the combined_scores array\n",
    "    combined_scores.sort(reverse=True, key=lambda x: x[0])\n",
    "    # Here we are creating a seperate list of ranked sentences, which will be used to display the results in a tabular format\n",
    "    ranked_sentences = [\n",
    "        (i + 1, sentences[idx], score) for i, (score, idx) in enumerate(combined_scores)\n",
    "    ]\n",
    "    # This is code to display the sentences in a presentable manner\n",
    "    table = Table(\n",
    "        show_header=True,\n",
    "        header_style=\"bold turquoise4\",\n",
    "        title_justify=\"center\",\n",
    "        title=\"Ranked Sentences\",\n",
    "        box=box.HEAVY_HEAD,\n",
    "    )\n",
    "    table.add_column(\"Rank\", style=\"bold\", width=6, justify=\"center\")\n",
    "    table.add_column(\"Sentence\", width=80, justify=\"Full\")\n",
    "    table.add_column(\"Score\", style=\"bold light_slate_blue\", width=10, justify=\"center\")\n",
    "    for rank, sentence, score in ranked_sentences:\n",
    "        table.add_row(str(rank), sentence, f\"{score:.2f}\")\n",
    "    console = Console()\n",
    "    console.print(table)\n",
    "    return combined_scores"
   ]
  },
  {
   "cell_type": "markdown",
   "metadata": {},
   "source": [
    "### <h5> <b> Summary Generation </b>\n",
    "\n",
    "The generate_summary function creates a summary by selecting the top-ranked sentences from a list of ranked sentences. It sorts these top sentences based on their original order in the text, extracts the corresponding sentences, and joins them into a single summary string. The function returns this summary text."
   ]
  },
  {
   "cell_type": "code",
   "execution_count": 9,
   "metadata": {},
   "outputs": [],
   "source": [
    "def generate_summary(sentences, ranked_sentences, summary_length=7):\n",
    "    # it takes the number of 'summary_length' sentences from the ranked_sentences array\n",
    "    top_sentences = sorted(ranked_sentences[:summary_length], key=lambda x: x[1])\n",
    "    # it appends those sentences to the summary array\n",
    "    summary = [sentences[i] for _, i in top_sentences]\n",
    "    # joins all the top ranked sentences to formulate a summary\n",
    "    summary_text = \" \".join(summary).replace(\"\\n\", \" \").replace(\"  \", \" \")\n",
    "    return summary_text"
   ]
  },
  {
   "cell_type": "markdown",
   "metadata": {},
   "source": [
    "# <h3 style=\"text-align: left;\"><b> RESULTS"
   ]
  },
  {
   "cell_type": "markdown",
   "metadata": {},
   "source": [
    "### <h5> <b> Summary Generation</b>\n",
    "\n",
    "* This cell demonstrates the usage of the functions in our notebook \n",
    "* In the output we can observe the table which contains the information about which sentence is of the highest score and it shows the ranking of each of the sentences that have been extracted from the text "
   ]
  },
  {
   "cell_type": "code",
   "execution_count": 10,
   "metadata": {},
   "outputs": [
    {
     "data": {
      "text/html": [
       "<pre style=\"white-space:pre;overflow-x:auto;line-height:normal;font-family:Menlo,'DejaVu Sans Mono',consolas,'Courier New',monospace\"><span style=\"font-weight: bold\">Features:</span>\n",
       "<span style=\"font-weight: bold\">{</span><span style=\"color: #008000; text-decoration-color: #008000\">'proper_nouns'</span>: <span style=\"color: #008080; text-decoration-color: #008080; font-weight: bold\">0</span>, <span style=\"color: #008000; text-decoration-color: #008000\">'numerical_data'</span>: <span style=\"color: #008080; text-decoration-color: #008080; font-weight: bold\">0</span>, <span style=\"color: #008000; text-decoration-color: #008000\">'discourse_markers'</span>: <span style=\"color: #008080; text-decoration-color: #008080; font-weight: bold\">0</span>, <span style=\"color: #008000; text-decoration-color: #008000\">'title_word_presence'</span>: <span style=\"color: #008080; text-decoration-color: #008080; font-weight: bold\">0</span><span style=\"font-weight: bold\">}</span>\n",
       "</pre>\n"
      ],
      "text/plain": [
       "\u001b[1mFeatures:\u001b[0m\n",
       "\u001b[1m{\u001b[0m\u001b[32m'proper_nouns'\u001b[0m: \u001b[1;36m0\u001b[0m, \u001b[32m'numerical_data'\u001b[0m: \u001b[1;36m0\u001b[0m, \u001b[32m'discourse_markers'\u001b[0m: \u001b[1;36m0\u001b[0m, \u001b[32m'title_word_presence'\u001b[0m: \u001b[1;36m0\u001b[0m\u001b[1m}\u001b[0m\n"
      ]
     },
     "metadata": {},
     "output_type": "display_data"
    },
    {
     "data": {
      "text/html": [
       "<pre style=\"white-space:pre;overflow-x:auto;line-height:normal;font-family:Menlo,'DejaVu Sans Mono',consolas,'Courier New',monospace\"><span style=\"font-style: italic\">                                             Ranked Sentences                                             </span>\n",
       "┏━━━━━━━━┳━━━━━━━━━━━━━━━━━━━━━━━━━━━━━━━━━━━━━━━━━━━━━━━━━━━━━━━━━━━━━━━━━━━━━━━━━━━━━━━━━━┳━━━━━━━━━━━━┓\n",
       "┃<span style=\"color: #008787; text-decoration-color: #008787; font-weight: bold\">  Rank  </span>┃<span style=\"color: #008787; text-decoration-color: #008787; font-weight: bold\"> Sentence                                                                         </span>┃<span style=\"color: #008787; text-decoration-color: #008787; font-weight: bold\">   Score    </span>┃\n",
       "┡━━━━━━━━╇━━━━━━━━━━━━━━━━━━━━━━━━━━━━━━━━━━━━━━━━━━━━━━━━━━━━━━━━━━━━━━━━━━━━━━━━━━━━━━━━━━╇━━━━━━━━━━━━┩\n",
       "│<span style=\"font-weight: bold\">   1    </span>│ artificial intelligence in modern healthcare  a paradigm shift                   │<span style=\"color: #8787ff; text-decoration-color: #8787ff; font-weight: bold\">    5.00    </span>│\n",
       "│<span style=\"font-weight: bold\">        </span>│                                                                                  │<span style=\"color: #8787ff; text-decoration-color: #8787ff; font-weight: bold\">            </span>│\n",
       "│<span style=\"font-weight: bold\">        </span>│ artificial intelligence  ai  has become an integral part of modern healthcare    │<span style=\"color: #8787ff; text-decoration-color: #8787ff; font-weight: bold\">            </span>│\n",
       "│<span style=\"font-weight: bold\">        </span>│ revolutionizing the                                                              │<span style=\"color: #8787ff; text-decoration-color: #8787ff; font-weight: bold\">            </span>│\n",
       "│<span style=\"font-weight: bold\">        </span>│ way medical professionals diagnose  treat  and manage patient care.              │<span style=\"color: #8787ff; text-decoration-color: #8787ff; font-weight: bold\">            </span>│\n",
       "│<span style=\"font-weight: bold\">   2    </span>│ machine learning algorithms can                                                  │<span style=\"color: #8787ff; text-decoration-color: #8787ff; font-weight: bold\">    4.79    </span>│\n",
       "│<span style=\"font-weight: bold\">        </span>│ identify potential drug candidates  predict their effectiveness  and even        │<span style=\"color: #8787ff; text-decoration-color: #8787ff; font-weight: bold\">            </span>│\n",
       "│<span style=\"font-weight: bold\">        </span>│ suggest modifications to                                                         │<span style=\"color: #8787ff; text-decoration-color: #8787ff; font-weight: bold\">            </span>│\n",
       "│<span style=\"font-weight: bold\">        </span>│ improve their efficacy.                                                          │<span style=\"color: #8787ff; text-decoration-color: #8787ff; font-weight: bold\">            </span>│\n",
       "│<span style=\"font-weight: bold\">   3    </span>│ traditional drug development processes are time consuming and expensive  often   │<span style=\"color: #8787ff; text-decoration-color: #8787ff; font-weight: bold\">    4.64    </span>│\n",
       "│<span style=\"font-weight: bold\">        </span>│ taking years to bring a new drug to market.                                      │<span style=\"color: #8787ff; text-decoration-color: #8787ff; font-weight: bold\">            </span>│\n",
       "│<span style=\"font-weight: bold\">   4    </span>│ this capability is particularly useful in identifying at risk patients  enabling │<span style=\"color: #8787ff; text-decoration-color: #8787ff; font-weight: bold\">    4.63    </span>│\n",
       "│<span style=\"font-weight: bold\">        </span>│ early                                                                            │<span style=\"color: #8787ff; text-decoration-color: #8787ff; font-weight: bold\">            </span>│\n",
       "│<span style=\"font-weight: bold\">        </span>│ intervention and personalized treatment plans.                                   │<span style=\"color: #8787ff; text-decoration-color: #8787ff; font-weight: bold\">            </span>│\n",
       "│<span style=\"font-weight: bold\">   5    </span>│ ai accelerates this process by analyzing vast amounts of                         │<span style=\"color: #8787ff; text-decoration-color: #8787ff; font-weight: bold\">    4.59    </span>│\n",
       "│<span style=\"font-weight: bold\">        </span>│ data from clinical trials  medical literature  and patient records.              │<span style=\"color: #8787ff; text-decoration-color: #8787ff; font-weight: bold\">            </span>│\n",
       "│<span style=\"font-weight: bold\">   6    </span>│ the introduction of ai in                                                        │<span style=\"color: #8787ff; text-decoration-color: #8787ff; font-weight: bold\">    4.58    </span>│\n",
       "│<span style=\"font-weight: bold\">        </span>│ healthcare has brought about a paradigm shift  offering unprecedented accuracy   │<span style=\"color: #8787ff; text-decoration-color: #8787ff; font-weight: bold\">            </span>│\n",
       "│<span style=\"font-weight: bold\">        </span>│ and efficiency.                                                                  │<span style=\"color: #8787ff; text-decoration-color: #8787ff; font-weight: bold\">            </span>│\n",
       "│<span style=\"font-weight: bold\">   7    </span>│ these virtual assistants can answer questions  schedule                          │<span style=\"color: #8787ff; text-decoration-color: #8787ff; font-weight: bold\">    4.51    </span>│\n",
       "│<span style=\"font-weight: bold\">        </span>│ appointments  and even monitor chronic conditions through wearable devices.      │<span style=\"color: #8787ff; text-decoration-color: #8787ff; font-weight: bold\">            </span>│\n",
       "│<span style=\"font-weight: bold\">   8    </span>│ predictive                                                                       │<span style=\"color: #8787ff; text-decoration-color: #8787ff; font-weight: bold\">    4.48    </span>│\n",
       "│<span style=\"font-weight: bold\">        </span>│ analytics  for instance  uses complex algorithms to analyze historical data and  │<span style=\"color: #8787ff; text-decoration-color: #8787ff; font-weight: bold\">            </span>│\n",
       "│<span style=\"font-weight: bold\">        </span>│ predict future                                                                   │<span style=\"color: #8787ff; text-decoration-color: #8787ff; font-weight: bold\">            </span>│\n",
       "│<span style=\"font-weight: bold\">        </span>│ outcomes.                                                                        │<span style=\"color: #8787ff; text-decoration-color: #8787ff; font-weight: bold\">            </span>│\n",
       "│<span style=\"font-weight: bold\">   9    </span>│ these procedures are                                                             │<span style=\"color: #8787ff; text-decoration-color: #8787ff; font-weight: bold\">    4.41    </span>│\n",
       "│<span style=\"font-weight: bold\">        </span>│ performed with robotic arms controlled by surgeons  allowing for greater         │<span style=\"color: #8787ff; text-decoration-color: #8787ff; font-weight: bold\">            </span>│\n",
       "│<span style=\"font-weight: bold\">        </span>│ precision and minimal                                                            │<span style=\"color: #8787ff; text-decoration-color: #8787ff; font-weight: bold\">            </span>│\n",
       "│<span style=\"font-weight: bold\">        </span>│ invasiveness.                                                                    │<span style=\"color: #8787ff; text-decoration-color: #8787ff; font-weight: bold\">            </span>│\n",
       "│<span style=\"font-weight: bold\">   10   </span>│ in addition to diagnostics and surgeries  ai is also playing a crucial role in   │<span style=\"color: #8787ff; text-decoration-color: #8787ff; font-weight: bold\">    4.34    </span>│\n",
       "│<span style=\"font-weight: bold\">        </span>│ drug discovery and                                                               │<span style=\"color: #8787ff; text-decoration-color: #8787ff; font-weight: bold\">            </span>│\n",
       "│<span style=\"font-weight: bold\">        </span>│ development.                                                                     │<span style=\"color: #8787ff; text-decoration-color: #8787ff; font-weight: bold\">            </span>│\n",
       "│<span style=\"font-weight: bold\">   11   </span>│ furthermore  ai driven diagnostic tools have                                     │<span style=\"color: #8787ff; text-decoration-color: #8787ff; font-weight: bold\">    4.21    </span>│\n",
       "│<span style=\"font-weight: bold\">        </span>│ demonstrated remarkable precision in detecting diseases such as cancer at an     │<span style=\"color: #8787ff; text-decoration-color: #8787ff; font-weight: bold\">            </span>│\n",
       "│<span style=\"font-weight: bold\">        </span>│ early stage                                                                      │<span style=\"color: #8787ff; text-decoration-color: #8787ff; font-weight: bold\">            </span>│\n",
       "│<span style=\"font-weight: bold\">        </span>│ significantly improving patient outcomes.                                        │<span style=\"color: #8787ff; text-decoration-color: #8787ff; font-weight: bold\">            </span>│\n",
       "│<span style=\"font-weight: bold\">   12   </span>│ by enhancing diagnostic                                                          │<span style=\"color: #8787ff; text-decoration-color: #8787ff; font-weight: bold\">    4.13    </span>│\n",
       "│<span style=\"font-weight: bold\">        </span>│ accuracy  improving surgical precision  accelerating drug discovery  and         │<span style=\"color: #8787ff; text-decoration-color: #8787ff; font-weight: bold\">            </span>│\n",
       "│<span style=\"font-weight: bold\">        </span>│ empowering patients  ai                                                          │<span style=\"color: #8787ff; text-decoration-color: #8787ff; font-weight: bold\">            </span>│\n",
       "│<span style=\"font-weight: bold\">        </span>│ has the potential to significantly improve patient outcomes and revolutionize    │<span style=\"color: #8787ff; text-decoration-color: #8787ff; font-weight: bold\">            </span>│\n",
       "│<span style=\"font-weight: bold\">        </span>│ the healthcare                                                                   │<span style=\"color: #8787ff; text-decoration-color: #8787ff; font-weight: bold\">            </span>│\n",
       "│<span style=\"font-weight: bold\">        </span>│ industry.                                                                        │<span style=\"color: #8787ff; text-decoration-color: #8787ff; font-weight: bold\">            </span>│\n",
       "│<span style=\"font-weight: bold\">   13   </span>│ these tools utilize deep learning models trained on vast                         │<span style=\"color: #8787ff; text-decoration-color: #8787ff; font-weight: bold\">    4.13    </span>│\n",
       "│<span style=\"font-weight: bold\">        </span>│ datasets  enabling them to recognize patterns and anomalies that might be missed │<span style=\"color: #8787ff; text-decoration-color: #8787ff; font-weight: bold\">            </span>│\n",
       "│<span style=\"font-weight: bold\">        </span>│ by human eyes.                                                                   │<span style=\"color: #8787ff; text-decoration-color: #8787ff; font-weight: bold\">            </span>│\n",
       "│<span style=\"font-weight: bold\">   14   </span>│ from predictive analytics to robotic surgeries  ai is transforming the medical   │<span style=\"color: #8787ff; text-decoration-color: #8787ff; font-weight: bold\">    4.09    </span>│\n",
       "│<span style=\"font-weight: bold\">        </span>│ landscape.                                                                       │<span style=\"color: #8787ff; text-decoration-color: #8787ff; font-weight: bold\">            </span>│\n",
       "│<span style=\"font-weight: bold\">   15   </span>│ this technology not only enhances surgical                                       │<span style=\"color: #8787ff; text-decoration-color: #8787ff; font-weight: bold\">    4.04    </span>│\n",
       "│<span style=\"font-weight: bold\">        </span>│ outcomes but also shortens recovery times for patients.                          │<span style=\"color: #8787ff; text-decoration-color: #8787ff; font-weight: bold\">            </span>│\n",
       "│<span style=\"font-weight: bold\">   16   </span>│ by providing real                                                                │<span style=\"color: #8787ff; text-decoration-color: #8787ff; font-weight: bold\">    4.01    </span>│\n",
       "│<span style=\"font-weight: bold\">        </span>│ time feedback and personalized care recommendations  ai powered health           │<span style=\"color: #8787ff; text-decoration-color: #8787ff; font-weight: bold\">            </span>│\n",
       "│<span style=\"font-weight: bold\">        </span>│ assistants empower                                                               │<span style=\"color: #8787ff; text-decoration-color: #8787ff; font-weight: bold\">            </span>│\n",
       "│<span style=\"font-weight: bold\">        </span>│ patients to take a more active role in managing their health.                    │<span style=\"color: #8787ff; text-decoration-color: #8787ff; font-weight: bold\">            </span>│\n",
       "│<span style=\"font-weight: bold\">   17   </span>│ data privacy and security are major concerns  as the vast amounts of personal    │<span style=\"color: #8787ff; text-decoration-color: #8787ff; font-weight: bold\">    3.99    </span>│\n",
       "│<span style=\"font-weight: bold\">        </span>│ health                                                                           │<span style=\"color: #8787ff; text-decoration-color: #8787ff; font-weight: bold\">            </span>│\n",
       "│<span style=\"font-weight: bold\">        </span>│ information required to train ai models must be protected.                       │<span style=\"color: #8787ff; text-decoration-color: #8787ff; font-weight: bold\">            </span>│\n",
       "│<span style=\"font-weight: bold\">   18   </span>│ this has the potential to significantly reduce the time and cost associated      │<span style=\"color: #8787ff; text-decoration-color: #8787ff; font-weight: bold\">    3.88    </span>│\n",
       "│<span style=\"font-weight: bold\">        </span>│ with drug development  making life saving medications available to patients      │<span style=\"color: #8787ff; text-decoration-color: #8787ff; font-weight: bold\">            </span>│\n",
       "│<span style=\"font-weight: bold\">        </span>│ sooner.                                                                          │<span style=\"color: #8787ff; text-decoration-color: #8787ff; font-weight: bold\">            </span>│\n",
       "│<span style=\"font-weight: bold\">   19   </span>│ robotic surgeries are another area where ai has made a significant impact.       │<span style=\"color: #8787ff; text-decoration-color: #8787ff; font-weight: bold\">    3.87    </span>│\n",
       "│<span style=\"font-weight: bold\">   20   </span>│ virtual health                                                                   │<span style=\"color: #8787ff; text-decoration-color: #8787ff; font-weight: bold\">    3.84    </span>│\n",
       "│<span style=\"font-weight: bold\">        </span>│ assistants powered by ai are becoming increasingly common  providing patients    │<span style=\"color: #8787ff; text-decoration-color: #8787ff; font-weight: bold\">            </span>│\n",
       "│<span style=\"font-weight: bold\">        </span>│ with instant access                                                              │<span style=\"color: #8787ff; text-decoration-color: #8787ff; font-weight: bold\">            </span>│\n",
       "│<span style=\"font-weight: bold\">        </span>│ to medical advice and support.                                                   │<span style=\"color: #8787ff; text-decoration-color: #8787ff; font-weight: bold\">            </span>│\n",
       "│<span style=\"font-weight: bold\">   21   </span>│ while the benefits of ai in healthcare are undeniable  there are also challenges │<span style=\"color: #8787ff; text-decoration-color: #8787ff; font-weight: bold\">    3.80    </span>│\n",
       "│<span style=\"font-weight: bold\">        </span>│ that need to be                                                                  │<span style=\"color: #8787ff; text-decoration-color: #8787ff; font-weight: bold\">            </span>│\n",
       "│<span style=\"font-weight: bold\">        </span>│ addressed.                                                                       │<span style=\"color: #8787ff; text-decoration-color: #8787ff; font-weight: bold\">            </span>│\n",
       "│<span style=\"font-weight: bold\">   22   </span>│ moreover  ai is transforming the way healthcare providers interact with          │<span style=\"color: #8787ff; text-decoration-color: #8787ff; font-weight: bold\">    3.78    </span>│\n",
       "│<span style=\"font-weight: bold\">        </span>│ patients.                                                                        │<span style=\"color: #8787ff; text-decoration-color: #8787ff; font-weight: bold\">            </span>│\n",
       "│<span style=\"font-weight: bold\">   23   </span>│ ensuring that ai systems are transparent                                         │<span style=\"color: #8787ff; text-decoration-color: #8787ff; font-weight: bold\">    3.69    </span>│\n",
       "│<span style=\"font-weight: bold\">        </span>│ and explainable is also crucial  as healthcare providers and patients need to    │<span style=\"color: #8787ff; text-decoration-color: #8787ff; font-weight: bold\">            </span>│\n",
       "│<span style=\"font-weight: bold\">        </span>│ understand how                                                                   │<span style=\"color: #8787ff; text-decoration-color: #8787ff; font-weight: bold\">            </span>│\n",
       "│<span style=\"font-weight: bold\">        </span>│ decisions are being made.                                                        │<span style=\"color: #8787ff; text-decoration-color: #8787ff; font-weight: bold\">            </span>│\n",
       "│<span style=\"font-weight: bold\">   24   </span>│ the robots are equipped with ai algorithms that assist in real time decision     │<span style=\"color: #8787ff; text-decoration-color: #8787ff; font-weight: bold\">    3.65    </span>│\n",
       "│<span style=\"font-weight: bold\">        </span>│ making                                                                           │<span style=\"color: #8787ff; text-decoration-color: #8787ff; font-weight: bold\">            </span>│\n",
       "│<span style=\"font-weight: bold\">        </span>│ during surgery  reducing the risk of complications.                              │<span style=\"color: #8787ff; text-decoration-color: #8787ff; font-weight: bold\">            </span>│\n",
       "│<span style=\"font-weight: bold\">   25   </span>│ in conclusion  ai is reshaping the future of healthcare in profound ways.        │<span style=\"color: #8787ff; text-decoration-color: #8787ff; font-weight: bold\">    3.59    </span>│\n",
       "│<span style=\"font-weight: bold\">   26   </span>│ however  it is essential to address the challenges associated with ai            │<span style=\"color: #8787ff; text-decoration-color: #8787ff; font-weight: bold\">    3.58    </span>│\n",
       "│<span style=\"font-weight: bold\">        </span>│ implementation to                                                                │<span style=\"color: #8787ff; text-decoration-color: #8787ff; font-weight: bold\">            </span>│\n",
       "│<span style=\"font-weight: bold\">        </span>│ ensure that its benefits are realized in a safe and ethical manner.              │<span style=\"color: #8787ff; text-decoration-color: #8787ff; font-weight: bold\">            </span>│\n",
       "│<span style=\"font-weight: bold\">   27   </span>│ additionally  there is a need for ongoing training and education to ensure       │<span style=\"color: #8787ff; text-decoration-color: #8787ff; font-weight: bold\">    3.57    </span>│\n",
       "│<span style=\"font-weight: bold\">        </span>│ that healthcare professionals are equipped to work alongside ai technologies.    │<span style=\"color: #8787ff; text-decoration-color: #8787ff; font-weight: bold\">            </span>│\n",
       "└────────┴──────────────────────────────────────────────────────────────────────────────────┴────────────┘\n",
       "</pre>\n"
      ],
      "text/plain": [
       "\u001b[3m                                             Ranked Sentences                                             \u001b[0m\n",
       "┏━━━━━━━━┳━━━━━━━━━━━━━━━━━━━━━━━━━━━━━━━━━━━━━━━━━━━━━━━━━━━━━━━━━━━━━━━━━━━━━━━━━━━━━━━━━━┳━━━━━━━━━━━━┓\n",
       "┃\u001b[1;38;5;30m \u001b[0m\u001b[1;38;5;30m Rank \u001b[0m\u001b[1;38;5;30m \u001b[0m┃\u001b[1;38;5;30m \u001b[0m\u001b[1;38;5;30mSentence\u001b[0m\u001b[1;38;5;30m                                                                        \u001b[0m\u001b[1;38;5;30m \u001b[0m┃\u001b[1;38;5;30m \u001b[0m\u001b[1;38;5;30m  Score   \u001b[0m\u001b[1;38;5;30m \u001b[0m┃\n",
       "┡━━━━━━━━╇━━━━━━━━━━━━━━━━━━━━━━━━━━━━━━━━━━━━━━━━━━━━━━━━━━━━━━━━━━━━━━━━━━━━━━━━━━━━━━━━━━╇━━━━━━━━━━━━┩\n",
       "│\u001b[1m \u001b[0m\u001b[1m  1   \u001b[0m\u001b[1m \u001b[0m│ artificial intelligence in modern healthcare  a paradigm shift                   │\u001b[1;38;5;105m \u001b[0m\u001b[1;38;5;105m   5.00   \u001b[0m\u001b[1;38;5;105m \u001b[0m│\n",
       "│\u001b[1m        \u001b[0m│                                                                                  │\u001b[1;38;5;105m            \u001b[0m│\n",
       "│\u001b[1m        \u001b[0m│ artificial intelligence  ai  has become an integral part of modern healthcare    │\u001b[1;38;5;105m            \u001b[0m│\n",
       "│\u001b[1m        \u001b[0m│ revolutionizing the                                                              │\u001b[1;38;5;105m            \u001b[0m│\n",
       "│\u001b[1m        \u001b[0m│ way medical professionals diagnose  treat  and manage patient care.              │\u001b[1;38;5;105m            \u001b[0m│\n",
       "│\u001b[1m \u001b[0m\u001b[1m  2   \u001b[0m\u001b[1m \u001b[0m│ machine learning algorithms can                                                  │\u001b[1;38;5;105m \u001b[0m\u001b[1;38;5;105m   4.79   \u001b[0m\u001b[1;38;5;105m \u001b[0m│\n",
       "│\u001b[1m        \u001b[0m│ identify potential drug candidates  predict their effectiveness  and even        │\u001b[1;38;5;105m            \u001b[0m│\n",
       "│\u001b[1m        \u001b[0m│ suggest modifications to                                                         │\u001b[1;38;5;105m            \u001b[0m│\n",
       "│\u001b[1m        \u001b[0m│ improve their efficacy.                                                          │\u001b[1;38;5;105m            \u001b[0m│\n",
       "│\u001b[1m \u001b[0m\u001b[1m  3   \u001b[0m\u001b[1m \u001b[0m│ traditional drug development processes are time consuming and expensive  often   │\u001b[1;38;5;105m \u001b[0m\u001b[1;38;5;105m   4.64   \u001b[0m\u001b[1;38;5;105m \u001b[0m│\n",
       "│\u001b[1m        \u001b[0m│ taking years to bring a new drug to market.                                      │\u001b[1;38;5;105m            \u001b[0m│\n",
       "│\u001b[1m \u001b[0m\u001b[1m  4   \u001b[0m\u001b[1m \u001b[0m│ this capability is particularly useful in identifying at risk patients  enabling │\u001b[1;38;5;105m \u001b[0m\u001b[1;38;5;105m   4.63   \u001b[0m\u001b[1;38;5;105m \u001b[0m│\n",
       "│\u001b[1m        \u001b[0m│ early                                                                            │\u001b[1;38;5;105m            \u001b[0m│\n",
       "│\u001b[1m        \u001b[0m│ intervention and personalized treatment plans.                                   │\u001b[1;38;5;105m            \u001b[0m│\n",
       "│\u001b[1m \u001b[0m\u001b[1m  5   \u001b[0m\u001b[1m \u001b[0m│ ai accelerates this process by analyzing vast amounts of                         │\u001b[1;38;5;105m \u001b[0m\u001b[1;38;5;105m   4.59   \u001b[0m\u001b[1;38;5;105m \u001b[0m│\n",
       "│\u001b[1m        \u001b[0m│ data from clinical trials  medical literature  and patient records.              │\u001b[1;38;5;105m            \u001b[0m│\n",
       "│\u001b[1m \u001b[0m\u001b[1m  6   \u001b[0m\u001b[1m \u001b[0m│ the introduction of ai in                                                        │\u001b[1;38;5;105m \u001b[0m\u001b[1;38;5;105m   4.58   \u001b[0m\u001b[1;38;5;105m \u001b[0m│\n",
       "│\u001b[1m        \u001b[0m│ healthcare has brought about a paradigm shift  offering unprecedented accuracy   │\u001b[1;38;5;105m            \u001b[0m│\n",
       "│\u001b[1m        \u001b[0m│ and efficiency.                                                                  │\u001b[1;38;5;105m            \u001b[0m│\n",
       "│\u001b[1m \u001b[0m\u001b[1m  7   \u001b[0m\u001b[1m \u001b[0m│ these virtual assistants can answer questions  schedule                          │\u001b[1;38;5;105m \u001b[0m\u001b[1;38;5;105m   4.51   \u001b[0m\u001b[1;38;5;105m \u001b[0m│\n",
       "│\u001b[1m        \u001b[0m│ appointments  and even monitor chronic conditions through wearable devices.      │\u001b[1;38;5;105m            \u001b[0m│\n",
       "│\u001b[1m \u001b[0m\u001b[1m  8   \u001b[0m\u001b[1m \u001b[0m│ predictive                                                                       │\u001b[1;38;5;105m \u001b[0m\u001b[1;38;5;105m   4.48   \u001b[0m\u001b[1;38;5;105m \u001b[0m│\n",
       "│\u001b[1m        \u001b[0m│ analytics  for instance  uses complex algorithms to analyze historical data and  │\u001b[1;38;5;105m            \u001b[0m│\n",
       "│\u001b[1m        \u001b[0m│ predict future                                                                   │\u001b[1;38;5;105m            \u001b[0m│\n",
       "│\u001b[1m        \u001b[0m│ outcomes.                                                                        │\u001b[1;38;5;105m            \u001b[0m│\n",
       "│\u001b[1m \u001b[0m\u001b[1m  9   \u001b[0m\u001b[1m \u001b[0m│ these procedures are                                                             │\u001b[1;38;5;105m \u001b[0m\u001b[1;38;5;105m   4.41   \u001b[0m\u001b[1;38;5;105m \u001b[0m│\n",
       "│\u001b[1m        \u001b[0m│ performed with robotic arms controlled by surgeons  allowing for greater         │\u001b[1;38;5;105m            \u001b[0m│\n",
       "│\u001b[1m        \u001b[0m│ precision and minimal                                                            │\u001b[1;38;5;105m            \u001b[0m│\n",
       "│\u001b[1m        \u001b[0m│ invasiveness.                                                                    │\u001b[1;38;5;105m            \u001b[0m│\n",
       "│\u001b[1m \u001b[0m\u001b[1m  10  \u001b[0m\u001b[1m \u001b[0m│ in addition to diagnostics and surgeries  ai is also playing a crucial role in   │\u001b[1;38;5;105m \u001b[0m\u001b[1;38;5;105m   4.34   \u001b[0m\u001b[1;38;5;105m \u001b[0m│\n",
       "│\u001b[1m        \u001b[0m│ drug discovery and                                                               │\u001b[1;38;5;105m            \u001b[0m│\n",
       "│\u001b[1m        \u001b[0m│ development.                                                                     │\u001b[1;38;5;105m            \u001b[0m│\n",
       "│\u001b[1m \u001b[0m\u001b[1m  11  \u001b[0m\u001b[1m \u001b[0m│ furthermore  ai driven diagnostic tools have                                     │\u001b[1;38;5;105m \u001b[0m\u001b[1;38;5;105m   4.21   \u001b[0m\u001b[1;38;5;105m \u001b[0m│\n",
       "│\u001b[1m        \u001b[0m│ demonstrated remarkable precision in detecting diseases such as cancer at an     │\u001b[1;38;5;105m            \u001b[0m│\n",
       "│\u001b[1m        \u001b[0m│ early stage                                                                      │\u001b[1;38;5;105m            \u001b[0m│\n",
       "│\u001b[1m        \u001b[0m│ significantly improving patient outcomes.                                        │\u001b[1;38;5;105m            \u001b[0m│\n",
       "│\u001b[1m \u001b[0m\u001b[1m  12  \u001b[0m\u001b[1m \u001b[0m│ by enhancing diagnostic                                                          │\u001b[1;38;5;105m \u001b[0m\u001b[1;38;5;105m   4.13   \u001b[0m\u001b[1;38;5;105m \u001b[0m│\n",
       "│\u001b[1m        \u001b[0m│ accuracy  improving surgical precision  accelerating drug discovery  and         │\u001b[1;38;5;105m            \u001b[0m│\n",
       "│\u001b[1m        \u001b[0m│ empowering patients  ai                                                          │\u001b[1;38;5;105m            \u001b[0m│\n",
       "│\u001b[1m        \u001b[0m│ has the potential to significantly improve patient outcomes and revolutionize    │\u001b[1;38;5;105m            \u001b[0m│\n",
       "│\u001b[1m        \u001b[0m│ the healthcare                                                                   │\u001b[1;38;5;105m            \u001b[0m│\n",
       "│\u001b[1m        \u001b[0m│ industry.                                                                        │\u001b[1;38;5;105m            \u001b[0m│\n",
       "│\u001b[1m \u001b[0m\u001b[1m  13  \u001b[0m\u001b[1m \u001b[0m│ these tools utilize deep learning models trained on vast                         │\u001b[1;38;5;105m \u001b[0m\u001b[1;38;5;105m   4.13   \u001b[0m\u001b[1;38;5;105m \u001b[0m│\n",
       "│\u001b[1m        \u001b[0m│ datasets  enabling them to recognize patterns and anomalies that might be missed │\u001b[1;38;5;105m            \u001b[0m│\n",
       "│\u001b[1m        \u001b[0m│ by human eyes.                                                                   │\u001b[1;38;5;105m            \u001b[0m│\n",
       "│\u001b[1m \u001b[0m\u001b[1m  14  \u001b[0m\u001b[1m \u001b[0m│ from predictive analytics to robotic surgeries  ai is transforming the medical   │\u001b[1;38;5;105m \u001b[0m\u001b[1;38;5;105m   4.09   \u001b[0m\u001b[1;38;5;105m \u001b[0m│\n",
       "│\u001b[1m        \u001b[0m│ landscape.                                                                       │\u001b[1;38;5;105m            \u001b[0m│\n",
       "│\u001b[1m \u001b[0m\u001b[1m  15  \u001b[0m\u001b[1m \u001b[0m│ this technology not only enhances surgical                                       │\u001b[1;38;5;105m \u001b[0m\u001b[1;38;5;105m   4.04   \u001b[0m\u001b[1;38;5;105m \u001b[0m│\n",
       "│\u001b[1m        \u001b[0m│ outcomes but also shortens recovery times for patients.                          │\u001b[1;38;5;105m            \u001b[0m│\n",
       "│\u001b[1m \u001b[0m\u001b[1m  16  \u001b[0m\u001b[1m \u001b[0m│ by providing real                                                                │\u001b[1;38;5;105m \u001b[0m\u001b[1;38;5;105m   4.01   \u001b[0m\u001b[1;38;5;105m \u001b[0m│\n",
       "│\u001b[1m        \u001b[0m│ time feedback and personalized care recommendations  ai powered health           │\u001b[1;38;5;105m            \u001b[0m│\n",
       "│\u001b[1m        \u001b[0m│ assistants empower                                                               │\u001b[1;38;5;105m            \u001b[0m│\n",
       "│\u001b[1m        \u001b[0m│ patients to take a more active role in managing their health.                    │\u001b[1;38;5;105m            \u001b[0m│\n",
       "│\u001b[1m \u001b[0m\u001b[1m  17  \u001b[0m\u001b[1m \u001b[0m│ data privacy and security are major concerns  as the vast amounts of personal    │\u001b[1;38;5;105m \u001b[0m\u001b[1;38;5;105m   3.99   \u001b[0m\u001b[1;38;5;105m \u001b[0m│\n",
       "│\u001b[1m        \u001b[0m│ health                                                                           │\u001b[1;38;5;105m            \u001b[0m│\n",
       "│\u001b[1m        \u001b[0m│ information required to train ai models must be protected.                       │\u001b[1;38;5;105m            \u001b[0m│\n",
       "│\u001b[1m \u001b[0m\u001b[1m  18  \u001b[0m\u001b[1m \u001b[0m│ this has the potential to significantly reduce the time and cost associated      │\u001b[1;38;5;105m \u001b[0m\u001b[1;38;5;105m   3.88   \u001b[0m\u001b[1;38;5;105m \u001b[0m│\n",
       "│\u001b[1m        \u001b[0m│ with drug development  making life saving medications available to patients      │\u001b[1;38;5;105m            \u001b[0m│\n",
       "│\u001b[1m        \u001b[0m│ sooner.                                                                          │\u001b[1;38;5;105m            \u001b[0m│\n",
       "│\u001b[1m \u001b[0m\u001b[1m  19  \u001b[0m\u001b[1m \u001b[0m│ robotic surgeries are another area where ai has made a significant impact.       │\u001b[1;38;5;105m \u001b[0m\u001b[1;38;5;105m   3.87   \u001b[0m\u001b[1;38;5;105m \u001b[0m│\n",
       "│\u001b[1m \u001b[0m\u001b[1m  20  \u001b[0m\u001b[1m \u001b[0m│ virtual health                                                                   │\u001b[1;38;5;105m \u001b[0m\u001b[1;38;5;105m   3.84   \u001b[0m\u001b[1;38;5;105m \u001b[0m│\n",
       "│\u001b[1m        \u001b[0m│ assistants powered by ai are becoming increasingly common  providing patients    │\u001b[1;38;5;105m            \u001b[0m│\n",
       "│\u001b[1m        \u001b[0m│ with instant access                                                              │\u001b[1;38;5;105m            \u001b[0m│\n",
       "│\u001b[1m        \u001b[0m│ to medical advice and support.                                                   │\u001b[1;38;5;105m            \u001b[0m│\n",
       "│\u001b[1m \u001b[0m\u001b[1m  21  \u001b[0m\u001b[1m \u001b[0m│ while the benefits of ai in healthcare are undeniable  there are also challenges │\u001b[1;38;5;105m \u001b[0m\u001b[1;38;5;105m   3.80   \u001b[0m\u001b[1;38;5;105m \u001b[0m│\n",
       "│\u001b[1m        \u001b[0m│ that need to be                                                                  │\u001b[1;38;5;105m            \u001b[0m│\n",
       "│\u001b[1m        \u001b[0m│ addressed.                                                                       │\u001b[1;38;5;105m            \u001b[0m│\n",
       "│\u001b[1m \u001b[0m\u001b[1m  22  \u001b[0m\u001b[1m \u001b[0m│ moreover  ai is transforming the way healthcare providers interact with          │\u001b[1;38;5;105m \u001b[0m\u001b[1;38;5;105m   3.78   \u001b[0m\u001b[1;38;5;105m \u001b[0m│\n",
       "│\u001b[1m        \u001b[0m│ patients.                                                                        │\u001b[1;38;5;105m            \u001b[0m│\n",
       "│\u001b[1m \u001b[0m\u001b[1m  23  \u001b[0m\u001b[1m \u001b[0m│ ensuring that ai systems are transparent                                         │\u001b[1;38;5;105m \u001b[0m\u001b[1;38;5;105m   3.69   \u001b[0m\u001b[1;38;5;105m \u001b[0m│\n",
       "│\u001b[1m        \u001b[0m│ and explainable is also crucial  as healthcare providers and patients need to    │\u001b[1;38;5;105m            \u001b[0m│\n",
       "│\u001b[1m        \u001b[0m│ understand how                                                                   │\u001b[1;38;5;105m            \u001b[0m│\n",
       "│\u001b[1m        \u001b[0m│ decisions are being made.                                                        │\u001b[1;38;5;105m            \u001b[0m│\n",
       "│\u001b[1m \u001b[0m\u001b[1m  24  \u001b[0m\u001b[1m \u001b[0m│ the robots are equipped with ai algorithms that assist in real time decision     │\u001b[1;38;5;105m \u001b[0m\u001b[1;38;5;105m   3.65   \u001b[0m\u001b[1;38;5;105m \u001b[0m│\n",
       "│\u001b[1m        \u001b[0m│ making                                                                           │\u001b[1;38;5;105m            \u001b[0m│\n",
       "│\u001b[1m        \u001b[0m│ during surgery  reducing the risk of complications.                              │\u001b[1;38;5;105m            \u001b[0m│\n",
       "│\u001b[1m \u001b[0m\u001b[1m  25  \u001b[0m\u001b[1m \u001b[0m│ in conclusion  ai is reshaping the future of healthcare in profound ways.        │\u001b[1;38;5;105m \u001b[0m\u001b[1;38;5;105m   3.59   \u001b[0m\u001b[1;38;5;105m \u001b[0m│\n",
       "│\u001b[1m \u001b[0m\u001b[1m  26  \u001b[0m\u001b[1m \u001b[0m│ however  it is essential to address the challenges associated with ai            │\u001b[1;38;5;105m \u001b[0m\u001b[1;38;5;105m   3.58   \u001b[0m\u001b[1;38;5;105m \u001b[0m│\n",
       "│\u001b[1m        \u001b[0m│ implementation to                                                                │\u001b[1;38;5;105m            \u001b[0m│\n",
       "│\u001b[1m        \u001b[0m│ ensure that its benefits are realized in a safe and ethical manner.              │\u001b[1;38;5;105m            \u001b[0m│\n",
       "│\u001b[1m \u001b[0m\u001b[1m  27  \u001b[0m\u001b[1m \u001b[0m│ additionally  there is a need for ongoing training and education to ensure       │\u001b[1;38;5;105m \u001b[0m\u001b[1;38;5;105m   3.57   \u001b[0m\u001b[1;38;5;105m \u001b[0m│\n",
       "│\u001b[1m        \u001b[0m│ that healthcare professionals are equipped to work alongside ai technologies.    │\u001b[1;38;5;105m            \u001b[0m│\n",
       "└────────┴──────────────────────────────────────────────────────────────────────────────────┴────────────┘\n"
      ]
     },
     "metadata": {},
     "output_type": "display_data"
    },
    {
     "data": {
      "text/html": [
       "<pre style=\"white-space:pre;overflow-x:auto;line-height:normal;font-family:Menlo,'DejaVu Sans Mono',consolas,'Courier New',monospace\"><span style=\"font-weight: bold\">Summary:</span> artificial intelligence in modern healthcare a paradigm shift artificial intelligence ai has become an \n",
       "integral part of modern healthcare revolutionizing the way medical professionals diagnose treat and manage patient \n",
       "care. the introduction of ai in healthcare has brought about a paradigm shift offering unprecedented accuracy and \n",
       "efficiency. predictive analytics for instance uses complex algorithms to analyze historical data and predict future\n",
       "outcomes. this capability is particularly useful in identifying at risk patients enabling early intervention and \n",
       "personalized treatment plans. traditional drug development processes are time consuming and expensive often taking \n",
       "years to bring a new drug to market. ai accelerates this process by analyzing vast amounts of data from clinical \n",
       "trials medical literature and patient records. machine learning algorithms can identify potential drug candidates \n",
       "predict their effectiveness and even suggest modifications to improve their efficacy. these virtual assistants can \n",
       "answer questions schedule appointments and even monitor chronic conditions through wearable devices.\n",
       "</pre>\n"
      ],
      "text/plain": [
       "\u001b[1mSummary:\u001b[0m artificial intelligence in modern healthcare a paradigm shift artificial intelligence ai has become an \n",
       "integral part of modern healthcare revolutionizing the way medical professionals diagnose treat and manage patient \n",
       "care. the introduction of ai in healthcare has brought about a paradigm shift offering unprecedented accuracy and \n",
       "efficiency. predictive analytics for instance uses complex algorithms to analyze historical data and predict future\n",
       "outcomes. this capability is particularly useful in identifying at risk patients enabling early intervention and \n",
       "personalized treatment plans. traditional drug development processes are time consuming and expensive often taking \n",
       "years to bring a new drug to market. ai accelerates this process by analyzing vast amounts of data from clinical \n",
       "trials medical literature and patient records. machine learning algorithms can identify potential drug candidates \n",
       "predict their effectiveness and even suggest modifications to improve their efficacy. these virtual assistants can \n",
       "answer questions schedule appointments and even monitor chronic conditions through wearable devices.\n"
      ]
     },
     "metadata": {},
     "output_type": "display_data"
    }
   ],
   "source": [
    "# Speicifying the file path\n",
    "file_path = \"output.txt\"\n",
    "# extracting the sentences and words from the text provided\n",
    "\n",
    "sentences, words = preprocess_text(file_path)\n",
    "# extracting the scores of the sentences in the text given the words and the sentences\n",
    "\n",
    "scores = score_sentences(sentences=sentences, words=words)\n",
    "# extracting the features of the sentences in the text\n",
    "\n",
    "features = extract_features(sentences)\n",
    "\n",
    "print(\"[bold]Features:[/bold]\", features[0])\n",
    "\n",
    "ranked_sentences = rank_sentences(sentences, scores, features)\n",
    "\n",
    "summary = generate_summary(sentences, ranked_sentences, summary_length=8)\n",
    "\n",
    "print(\"[bold]Summary:[/bold]\", summary)"
   ]
  },
  {
   "cell_type": "code",
   "execution_count": 11,
   "metadata": {},
   "outputs": [
    {
     "data": {
      "text/plain": [
       "1118"
      ]
     },
     "execution_count": 11,
     "metadata": {},
     "output_type": "execute_result"
    }
   ],
   "source": [
    "len(summary)"
   ]
  },
  {
   "cell_type": "markdown",
   "metadata": {},
   "source": [
    "### **Bleu & Rouge Scores**"
   ]
  },
  {
   "cell_type": "code",
   "execution_count": 12,
   "metadata": {},
   "outputs": [
    {
     "name": "stderr",
     "output_type": "stream",
     "text": [
      "[nltk_data] Downloading package punkt to /home/srajan/nltk_data...\n",
      "[nltk_data]   Package punkt is already up-to-date!\n"
     ]
    }
   ],
   "source": [
    "import nltk\n",
    "from nltk.translate.bleu_score import sentence_bleu, SmoothingFunction\n",
    "from rouge_score import rouge_scorer\n",
    "\n",
    "# Download necessary NLTK data\n",
    "nltk.download(\"punkt\")\n",
    "\n",
    "\n",
    "def compute_bleu(reference, candidate):\n",
    "    reference_tokens = nltk.word_tokenize(reference)\n",
    "    candidate_tokens = nltk.word_tokenize(candidate)\n",
    "    smoothie = SmoothingFunction().method1\n",
    "    score = sentence_bleu(\n",
    "        [reference_tokens], candidate_tokens, smoothing_function=smoothie\n",
    "    )\n",
    "    return score\n",
    "\n",
    "\n",
    "def compute_rouge(reference, candidate):\n",
    "    scorer = rouge_scorer.RougeScorer([\"rouge1\", \"rouge2\", \"rougeL\"], use_stemmer=True)\n",
    "    scores = scorer.score(reference, candidate)\n",
    "    return scores"
   ]
  },
  {
   "cell_type": "code",
   "execution_count": 16,
   "metadata": {},
   "outputs": [
    {
     "data": {
      "text/html": [
       "<pre style=\"white-space:pre;overflow-x:auto;line-height:normal;font-family:Menlo,'DejaVu Sans Mono',consolas,'Courier New',monospace\">BLEU Score: <span style=\"color: #008080; text-decoration-color: #008080; font-weight: bold\">0.006235210526335005</span>\n",
       "</pre>\n"
      ],
      "text/plain": [
       "BLEU Score: \u001b[1;36m0.006235210526335005\u001b[0m\n"
      ]
     },
     "metadata": {},
     "output_type": "display_data"
    },
    {
     "data": {
      "text/html": [
       "<pre style=\"white-space:pre;overflow-x:auto;line-height:normal;font-family:Menlo,'DejaVu Sans Mono',consolas,'Courier New',monospace\">ROUGE Scores:\n",
       "<span style=\"font-weight: bold\">{</span>\n",
       "    <span style=\"color: #008000; text-decoration-color: #008000\">'rouge1'</span>: <span style=\"color: #800080; text-decoration-color: #800080; font-weight: bold\">Score</span><span style=\"font-weight: bold\">(</span><span style=\"color: #808000; text-decoration-color: #808000\">precision</span>=<span style=\"color: #008080; text-decoration-color: #008080; font-weight: bold\">0.2582781456953642</span>, <span style=\"color: #808000; text-decoration-color: #808000\">recall</span>=<span style=\"color: #008080; text-decoration-color: #008080; font-weight: bold\">0.5571428571428572</span>, <span style=\"color: #808000; text-decoration-color: #808000\">fmeasure</span>=<span style=\"color: #008080; text-decoration-color: #008080; font-weight: bold\">0.3529411764705882</span><span style=\"font-weight: bold\">)</span>,\n",
       "    <span style=\"color: #008000; text-decoration-color: #008000\">'rouge2'</span>: <span style=\"color: #800080; text-decoration-color: #800080; font-weight: bold\">Score</span><span style=\"font-weight: bold\">(</span><span style=\"color: #808000; text-decoration-color: #808000\">precision</span>=<span style=\"color: #008080; text-decoration-color: #008080; font-weight: bold\">0.04666666666666667</span>, <span style=\"color: #808000; text-decoration-color: #808000\">recall</span>=<span style=\"color: #008080; text-decoration-color: #008080; font-weight: bold\">0.10144927536231885</span>, <span style=\"color: #808000; text-decoration-color: #808000\">fmeasure</span>=<span style=\"color: #008080; text-decoration-color: #008080; font-weight: bold\">0.06392694063926942</span><span style=\"font-weight: bold\">)</span>,\n",
       "    <span style=\"color: #008000; text-decoration-color: #008000\">'rougeL'</span>: <span style=\"color: #800080; text-decoration-color: #800080; font-weight: bold\">Score</span><span style=\"font-weight: bold\">(</span><span style=\"color: #808000; text-decoration-color: #808000\">precision</span>=<span style=\"color: #008080; text-decoration-color: #008080; font-weight: bold\">0.1456953642384106</span>, <span style=\"color: #808000; text-decoration-color: #808000\">recall</span>=<span style=\"color: #008080; text-decoration-color: #008080; font-weight: bold\">0.3142857142857143</span>, <span style=\"color: #808000; text-decoration-color: #808000\">fmeasure</span>=<span style=\"color: #008080; text-decoration-color: #008080; font-weight: bold\">0.19909502262443438</span><span style=\"font-weight: bold\">)</span>\n",
       "<span style=\"font-weight: bold\">}</span>\n",
       "</pre>\n"
      ],
      "text/plain": [
       "ROUGE Scores:\n",
       "\u001b[1m{\u001b[0m\n",
       "    \u001b[32m'rouge1'\u001b[0m: \u001b[1;35mScore\u001b[0m\u001b[1m(\u001b[0m\u001b[33mprecision\u001b[0m=\u001b[1;36m0\u001b[0m\u001b[1;36m.2582781456953642\u001b[0m, \u001b[33mrecall\u001b[0m=\u001b[1;36m0\u001b[0m\u001b[1;36m.5571428571428572\u001b[0m, \u001b[33mfmeasure\u001b[0m=\u001b[1;36m0\u001b[0m\u001b[1;36m.3529411764705882\u001b[0m\u001b[1m)\u001b[0m,\n",
       "    \u001b[32m'rouge2'\u001b[0m: \u001b[1;35mScore\u001b[0m\u001b[1m(\u001b[0m\u001b[33mprecision\u001b[0m=\u001b[1;36m0\u001b[0m\u001b[1;36m.04666666666666667\u001b[0m, \u001b[33mrecall\u001b[0m=\u001b[1;36m0\u001b[0m\u001b[1;36m.10144927536231885\u001b[0m, \u001b[33mfmeasure\u001b[0m=\u001b[1;36m0\u001b[0m\u001b[1;36m.06392694063926942\u001b[0m\u001b[1m)\u001b[0m,\n",
       "    \u001b[32m'rougeL'\u001b[0m: \u001b[1;35mScore\u001b[0m\u001b[1m(\u001b[0m\u001b[33mprecision\u001b[0m=\u001b[1;36m0\u001b[0m\u001b[1;36m.1456953642384106\u001b[0m, \u001b[33mrecall\u001b[0m=\u001b[1;36m0\u001b[0m\u001b[1;36m.3142857142857143\u001b[0m, \u001b[33mfmeasure\u001b[0m=\u001b[1;36m0\u001b[0m\u001b[1;36m.19909502262443438\u001b[0m\u001b[1m)\u001b[0m\n",
       "\u001b[1m}\u001b[0m\n"
      ]
     },
     "metadata": {},
     "output_type": "display_data"
    }
   ],
   "source": [
    "# Define the reference summary\n",
    "reference_summary = \"\"\"\n",
    "Artificial Intelligence (AI) has transformed modern healthcare by enhancing diagnostic accuracy, improving surgical precision, accelerating drug discovery, and empowering patients. AI-driven tools assist medical professionals in predicting patient outcomes, identifying diseases early, personalizing treatment plans, and providing real-time support through virtual health assistants. Despite these benefits, challenges such as data privacy, security, and the need for transparent AI systems must be addressed to ensure ethical and effective implementation.\n",
    "\"\"\"\n",
    "\n",
    "# Compute BLEU score\n",
    "bleu_score = compute_bleu(reference_summary, summary)\n",
    "print(\"BLEU Score:\", bleu_score)\n",
    "\n",
    "# Compute ROUGE scores\n",
    "rouge_scores = compute_rouge(reference_summary, summary)\n",
    "print(\"ROUGE Scores:\", rouge_scores)"
   ]
  },
  {
   "cell_type": "code",
   "execution_count": null,
   "metadata": {},
   "outputs": [],
   "source": [
    "# from chatbot import Chatbot"
   ]
  },
  {
   "cell_type": "code",
   "execution_count": 15,
   "metadata": {},
   "outputs": [],
   "source": [
    "# question = input(\"How can I help you?\\n\")\n",
    "# chatbot = Chatbot()\n",
    "# response = chatbot.respond(question, summary)\n",
    "# print(\"[bold]Question:[/bold]\", question)\n",
    "# print(\"[bold]Response:[/bold]\", response)"
   ]
  },
  {
   "cell_type": "code",
   "execution_count": null,
   "metadata": {},
   "outputs": [],
   "source": [
    "# question = input(\"How can I help you?\\n\")\n",
    "# chatbot = Chatbot()\n",
    "# response = chatbot.respond(question, summary)\n",
    "# print(\"[bold]Question:[/bold]\", question)\n",
    "# print(\"[bold]Response:[/bold]\", response)"
   ]
  },
  {
   "cell_type": "markdown",
   "metadata": {},
   "source": [
    "# <h3 style=\"text-align: left;\"><b> CONCLUSION </b>\n",
    "\n",
    "This notebook presents a Naive NLP-based approach for text summarization, emphasizing Sentence Scoring to efficiently extract essential information from a document. The process involves three primary stages:\n",
    "\n",
    "* <b>Sentence Scoring:</b> Each sentence is evaluated based on position, length, and keyword frequency, allowing for a quantitative assessment of its relevance to the main content.\n",
    "\n",
    "* <b>Feature Extraction:</b> Specific features such as sentence position, optimal length, and keyword density are extracted to inform scoring and enhance the accuracy of summarization.\n",
    "\n",
    "* <b>Sentence Ranking:</b> Sentences are ranked according to their scores, with higher-ranked sentences prioritized in the final summary. This ensures that only the most informative sentences are included, providing a concise yet comprehensive summary.\n",
    "\n",
    "The resulting summary captures the document's core ideas without requiring advanced machine learning models, making it an efficient, interpretable solution for text summarization. This method demonstrates how rule-based techniques can effectively condense large texts, offering practical applications across fields that require quick text analysis and summarization.\n"
   ]
  }
 ],
 "metadata": {
  "kernelspec": {
   "display_name": "Python 3",
   "language": "python",
   "name": "python3"
  },
  "language_info": {
   "codemirror_mode": {
    "name": "ipython",
    "version": 3
   },
   "file_extension": ".py",
   "mimetype": "text/x-python",
   "name": "python",
   "nbconvert_exporter": "python",
   "pygments_lexer": "ipython3",
   "version": "3.11.9"
  }
 },
 "nbformat": 4,
 "nbformat_minor": 2
}
